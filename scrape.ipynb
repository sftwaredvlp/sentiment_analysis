{
 "cells": [
  {
   "cell_type": "code",
   "execution_count": 1,
   "id": "3adb743b-8b74-45d7-a4bf-04797525e27f",
   "metadata": {
    "editable": true,
    "slideshow": {
     "slide_type": ""
    },
    "tags": []
   },
   "outputs": [
    {
     "name": "stderr",
     "output_type": "stream",
     "text": [
      "Testing instances: 100%|██████████| 33/33 [01:05<00:00,  1.97s/it]\n"
     ]
    },
    {
     "name": "stdout",
     "output_type": "stream",
     "text": [
      "31-Jan-24 12:57:14 - Fetching error: Instance has been rate limited.Use another instance or try again later.\n",
      "31-Jan-24 12:57:37 - Fetching error: Instance has been rate limited.Use another instance or try again later.\n",
      "31-Jan-24 12:58:57 - Fetching error: Instance has been rate limited.Use another instance or try again later.\n",
      "31-Jan-24 13:01:37 - Fetching error: Instance has been rate limited.Use another instance or try again later.\n",
      "31-Jan-24 13:02:24 - https://nitter.privacydev.net unreachable. Trying https://nitter.soopy.moe\n",
      "31-Jan-24 13:02:31 - Fetching error: Instance has been rate limited.Use another instance or try again later.\n",
      "31-Jan-24 13:03:57 - Fetching error: Instance has been rate limited.Use another instance or try again later.\n",
      "31-Jan-24 13:04:21 - Fetching error: Instance has been rate limited.Use another instance or try again later.\n",
      "31-Jan-24 13:06:40 - Empty page on https://nitter.privacydev.net\n",
      "31-Jan-24 13:07:03 - Empty page on https://nitter.fdn.fr/\n",
      "31-Jan-24 13:07:44 - Fetching error: Instance has been rate limited.Use another instance or try again later.\n",
      "31-Jan-24 13:08:09 - Fetching error: Instance has been rate limited.Use another instance or try again later.\n",
      "31-Jan-24 13:08:43 - Fetching error: Instance has been rate limited.Use another instance or try again later.\n",
      "31-Jan-24 13:11:29 - Fetching error: Instance has been rate limited.Use another instance or try again later.\n",
      "31-Jan-24 13:11:51 - Empty page on https://nitter.eu.projectsegfau.lt\n",
      "31-Jan-24 13:13:17 - Empty page on https://nitter.fdn.fr/\n",
      "31-Jan-24 13:13:39 - Empty page on https://nitter.eu.projectsegfau.lt\n",
      "31-Jan-24 13:14:12 - Fetching error: Instance has been rate limited.Use another instance or try again later.\n",
      "31-Jan-24 13:14:35 - Fetching error: Instance has been rate limited.Use another instance or try again later.\n",
      "31-Jan-24 13:15:57 - Fetching error: Instance has been rate limited.Use another instance or try again later.\n",
      "31-Jan-24 13:16:37 - Fetching error: Instance has been rate limited.Use another instance or try again later.\n",
      "Error scraping tweets for hashtag entrepreneurialspirit: list index out of range\n",
      "31-Jan-24 13:20:26 - Fetching error: Instance has been rate limited.Use another instance or try again later.\n",
      "Error scraping tweets for hashtag outerspaceexploration: list index out of range\n",
      "31-Jan-24 13:21:25 - Fetching error: Instance has been rate limited.Use another instance or try again later.\n",
      "31-Jan-24 13:21:47 - Fetching error: Instance has been rate limited.Use another instance or try again later.\n",
      "31-Jan-24 13:22:23 - Fetching error: Instance has been rate limited.Use another instance or try again later.\n",
      "31-Jan-24 13:22:45 - Empty page on https://nitter.woodland.cafe\n",
      "31-Jan-24 13:23:07 - Empty page on https://nitter.woodland.cafe\n",
      "31-Jan-24 13:25:03 - Empty page on https://nitter.fdn.fr/\n",
      "31-Jan-24 13:25:26 - Fetching error: Instance has been rate limited.Use another instance or try again later.\n",
      "31-Jan-24 13:26:25 - Empty page on https://nitter.moomoo.me\n",
      "31-Jan-24 13:28:07 - Empty page on https://nitter.eu.projectsegfau.lt\n",
      "31-Jan-24 13:30:31 - Fetching error: Instance has been rate limited.Use another instance or try again later.\n",
      "31-Jan-24 13:30:54 - Fetching error: Instance has been rate limited.Use another instance or try again later.\n",
      "31-Jan-24 13:31:17 - Fetching error: Instance has been rate limited.Use another instance or try again later.\n",
      "31-Jan-24 13:32:00 - Empty page on https://nitter.privacydev.net\n",
      "31-Jan-24 13:32:23 - Fetching error: Instance has been rate limited.Use another instance or try again later.\n",
      "31-Jan-24 13:35:31 - Empty page on https://nitter.ktachibana.party\n",
      "31-Jan-24 13:36:08 - Fetching error: Instance has been rate limited.Use another instance or try again later.\n",
      "31-Jan-24 13:37:03 - Empty page on https://nitter.mint.lgbt\n"
     ]
    }
   ],
   "source": [
    "from ntscraper import Nitter\n",
    "import pandas as pd\n",
    "import os\n",
    "import time\n",
    "\n",
    "\n",
    "popular_hashtags =['love', 'travel', 'language', 'fitness', 'technology', 'holiday',\n",
    "       'nature', 'quotes', 'gaming', 'movies', 'books', 'health',\n",
    "       'adventure', 'Explore', 'pets', 'celebration', 'happiness',\n",
    "       'Inspiration', 'entrepreneur', 'fashion', 'photography', 'music',\n",
    "       'foodie', 'entrepreneurship', 'doglovers', 'celebrate',\n",
    "       'positivity', 'education', 'yoga', 'travelgram', 'fashionista',\n",
    "       'artistic', 'mindfulness', 'homecooking', 'adventuretime',\n",
    "       'motivationalquotes', 'catsofinstagram', 'humor', 'art', 'gourmet',\n",
    "       'exploration', 'gadgets', 'technologynews', 'culinaryadventures',\n",
    "       'startups', 'bodypositive', 'codinglife', 'wildlife',\n",
    "       'spaceexploration', 'inspirationalquotes', 'blockchain',\n",
    "       'vacationgoals', 'musicaltheatre', 'motivationalvideos',\n",
    "       'mindfulnesstips', 'petsofinstagram', 'celebrationoflife',\n",
    "       'selfimprovement', 'virtualvacation', 'positivethinking',\n",
    "       'astronomy', 'streetart', 'ancientcivilizations',\n",
    "       'techinnovations', 'mentalhealth', 'interiordesign',\n",
    "       'worldexplorer', 'gizmos', 'breakingtech', 'globetrotter',\n",
    "       'startuplife', 'entrepreneurialspirit', 'codelife', 'bibliophile',\n",
    "       'animalconservation', 'expressivewriting', 'empoweringquotes',\n",
    "       'photographyinspiration', 'dreamvacations', 'bookwormclub',\n",
    "       'mindfulnessjourney', 'filmfanatic', 'petphotography',\n",
    "       'celebratelife', 'sustainablelivingtips', 'optimisticmindset',\n",
    "       'audiobooks', 'finecuisine', 'spokenwordpoetry', 'linguaphile',\n",
    "       'augmentedreality', 'ethicalstyle', 'epicureanadventures',\n",
    "       'goldenagecinema', 'bodypositivitymovement', 'futuretech',\n",
    "       'mindshift', 'neuroscience', 'motivationalclips', 'indiegame',\n",
    "       'earthawareness', 'DIYcrafts', 'personalgrowth', 'virtualgetaway',\n",
    "       'codewisdom', 'bookishrecommendations', 'gameartistry']\n",
    "\n",
    "\n",
    "# Initialize Nitter scraper\n",
    "scraper = Nitter(0)\n",
    "\n",
    "for hashtag in popular_hashtags:\n",
    "    try:\n",
    "        # Get 100 tweets for each hashtag\n",
    "        tweets = scraper.get_tweets(hashtag, mode=\"hashtag\", number=100)\n",
    "\n",
    "        # Extract relevant data and append to the final_tweets list\n",
    "        final_tweets = []\n",
    "        for x in tweets['tweets']:\n",
    "            user = x.get('user', {})\n",
    "            avatar = user.get('avatar', '')\n",
    "            username = user.get('username', '')\n",
    "            \n",
    "            data = [x.get('link', ''), x.get('text', ''), x.get('date', ''), x['stats']['likes'], x['stats']['comments'], x['stats']['retweets'], username, hashtag]\n",
    "            final_tweets.append(data)\n",
    "\n",
    "        # Create a DataFrame from the final_tweets list\n",
    "        dat = pd.DataFrame(final_tweets, columns=['twitter_link', 'text', 'date', 'likes', 'comments', 'retweets', 'username', 'hashtag'])\n",
    "\n",
    "        dat.to_csv('scraped_tweets.csv', mode='a', header=not os.path.exists('scraped_tweets.csv'), index=False)\n",
    "\n",
    "        # Introduce a delay of,20 seconds before moving to the next hashtag\n",
    "        time.sleep(20)\n",
    "\n",
    "    except Exception as e:\n",
    "        print(f\"Error scraping tweets for hashtag {hashtag}: {e}\")\n"
   ]
  },
  {
   "cell_type": "code",
   "execution_count": null,
   "id": "d303833d-38a6-4bf4-a7f9-490e1766141d",
   "metadata": {},
   "outputs": [],
   "source": []
  }
 ],
 "metadata": {
  "kernelspec": {
   "display_name": "Python 3 (ipykernel)",
   "language": "python",
   "name": "python3"
  },
  "language_info": {
   "codemirror_mode": {
    "name": "ipython",
    "version": 3
   },
   "file_extension": ".py",
   "mimetype": "text/x-python",
   "name": "python",
   "nbconvert_exporter": "python",
   "pygments_lexer": "ipython3",
   "version": "3.11.2"
  }
 },
 "nbformat": 4,
 "nbformat_minor": 5
}
